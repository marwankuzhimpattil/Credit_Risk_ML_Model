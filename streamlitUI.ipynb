{
  "nbformat": 4,
  "nbformat_minor": 0,
  "metadata": {
    "colab": {
      "provenance": []
    },
    "kernelspec": {
      "name": "python3",
      "display_name": "Python 3"
    },
    "language_info": {
      "name": "python"
    }
  },
  "cells": [
    {
      "cell_type": "code",
      "source": [
        "!pip install streamlit pyngrok\n"
      ],
      "metadata": {
        "colab": {
          "base_uri": "https://localhost:8080/"
        },
        "id": "igliqDgYH0f7",
        "outputId": "b9e4fcc2-20d6-4294-99d8-75f26c494811"
      },
      "execution_count": 8,
      "outputs": [
        {
          "output_type": "stream",
          "name": "stdout",
          "text": [
            "Requirement already satisfied: streamlit in /usr/local/lib/python3.11/dist-packages (1.46.1)\n",
            "Requirement already satisfied: pyngrok in /usr/local/lib/python3.11/dist-packages (7.2.11)\n",
            "Requirement already satisfied: altair<6,>=4.0 in /usr/local/lib/python3.11/dist-packages (from streamlit) (5.5.0)\n",
            "Requirement already satisfied: blinker<2,>=1.5.0 in /usr/local/lib/python3.11/dist-packages (from streamlit) (1.9.0)\n",
            "Requirement already satisfied: cachetools<7,>=4.0 in /usr/local/lib/python3.11/dist-packages (from streamlit) (5.5.2)\n",
            "Requirement already satisfied: click<9,>=7.0 in /usr/local/lib/python3.11/dist-packages (from streamlit) (8.2.1)\n",
            "Requirement already satisfied: numpy<3,>=1.23 in /usr/local/lib/python3.11/dist-packages (from streamlit) (2.0.2)\n",
            "Requirement already satisfied: packaging<26,>=20 in /usr/local/lib/python3.11/dist-packages (from streamlit) (24.2)\n",
            "Requirement already satisfied: pandas<3,>=1.4.0 in /usr/local/lib/python3.11/dist-packages (from streamlit) (2.2.2)\n",
            "Requirement already satisfied: pillow<12,>=7.1.0 in /usr/local/lib/python3.11/dist-packages (from streamlit) (11.2.1)\n",
            "Requirement already satisfied: protobuf<7,>=3.20 in /usr/local/lib/python3.11/dist-packages (from streamlit) (5.29.5)\n",
            "Requirement already satisfied: pyarrow>=7.0 in /usr/local/lib/python3.11/dist-packages (from streamlit) (18.1.0)\n",
            "Requirement already satisfied: requests<3,>=2.27 in /usr/local/lib/python3.11/dist-packages (from streamlit) (2.32.3)\n",
            "Requirement already satisfied: tenacity<10,>=8.1.0 in /usr/local/lib/python3.11/dist-packages (from streamlit) (8.5.0)\n",
            "Requirement already satisfied: toml<2,>=0.10.1 in /usr/local/lib/python3.11/dist-packages (from streamlit) (0.10.2)\n",
            "Requirement already satisfied: typing-extensions<5,>=4.4.0 in /usr/local/lib/python3.11/dist-packages (from streamlit) (4.14.0)\n",
            "Requirement already satisfied: watchdog<7,>=2.1.5 in /usr/local/lib/python3.11/dist-packages (from streamlit) (6.0.0)\n",
            "Requirement already satisfied: gitpython!=3.1.19,<4,>=3.0.7 in /usr/local/lib/python3.11/dist-packages (from streamlit) (3.1.44)\n",
            "Requirement already satisfied: pydeck<1,>=0.8.0b4 in /usr/local/lib/python3.11/dist-packages (from streamlit) (0.9.1)\n",
            "Requirement already satisfied: tornado!=6.5.0,<7,>=6.0.3 in /usr/local/lib/python3.11/dist-packages (from streamlit) (6.4.2)\n",
            "Requirement already satisfied: PyYAML>=5.1 in /usr/local/lib/python3.11/dist-packages (from pyngrok) (6.0.2)\n",
            "Requirement already satisfied: jinja2 in /usr/local/lib/python3.11/dist-packages (from altair<6,>=4.0->streamlit) (3.1.6)\n",
            "Requirement already satisfied: jsonschema>=3.0 in /usr/local/lib/python3.11/dist-packages (from altair<6,>=4.0->streamlit) (4.24.0)\n",
            "Requirement already satisfied: narwhals>=1.14.2 in /usr/local/lib/python3.11/dist-packages (from altair<6,>=4.0->streamlit) (1.45.0)\n",
            "Requirement already satisfied: gitdb<5,>=4.0.1 in /usr/local/lib/python3.11/dist-packages (from gitpython!=3.1.19,<4,>=3.0.7->streamlit) (4.0.12)\n",
            "Requirement already satisfied: python-dateutil>=2.8.2 in /usr/local/lib/python3.11/dist-packages (from pandas<3,>=1.4.0->streamlit) (2.9.0.post0)\n",
            "Requirement already satisfied: pytz>=2020.1 in /usr/local/lib/python3.11/dist-packages (from pandas<3,>=1.4.0->streamlit) (2025.2)\n",
            "Requirement already satisfied: tzdata>=2022.7 in /usr/local/lib/python3.11/dist-packages (from pandas<3,>=1.4.0->streamlit) (2025.2)\n",
            "Requirement already satisfied: charset-normalizer<4,>=2 in /usr/local/lib/python3.11/dist-packages (from requests<3,>=2.27->streamlit) (3.4.2)\n",
            "Requirement already satisfied: idna<4,>=2.5 in /usr/local/lib/python3.11/dist-packages (from requests<3,>=2.27->streamlit) (3.10)\n",
            "Requirement already satisfied: urllib3<3,>=1.21.1 in /usr/local/lib/python3.11/dist-packages (from requests<3,>=2.27->streamlit) (2.4.0)\n",
            "Requirement already satisfied: certifi>=2017.4.17 in /usr/local/lib/python3.11/dist-packages (from requests<3,>=2.27->streamlit) (2025.6.15)\n",
            "Requirement already satisfied: smmap<6,>=3.0.1 in /usr/local/lib/python3.11/dist-packages (from gitdb<5,>=4.0.1->gitpython!=3.1.19,<4,>=3.0.7->streamlit) (5.0.2)\n",
            "Requirement already satisfied: MarkupSafe>=2.0 in /usr/local/lib/python3.11/dist-packages (from jinja2->altair<6,>=4.0->streamlit) (3.0.2)\n",
            "Requirement already satisfied: attrs>=22.2.0 in /usr/local/lib/python3.11/dist-packages (from jsonschema>=3.0->altair<6,>=4.0->streamlit) (25.3.0)\n",
            "Requirement already satisfied: jsonschema-specifications>=2023.03.6 in /usr/local/lib/python3.11/dist-packages (from jsonschema>=3.0->altair<6,>=4.0->streamlit) (2025.4.1)\n",
            "Requirement already satisfied: referencing>=0.28.4 in /usr/local/lib/python3.11/dist-packages (from jsonschema>=3.0->altair<6,>=4.0->streamlit) (0.36.2)\n",
            "Requirement already satisfied: rpds-py>=0.7.1 in /usr/local/lib/python3.11/dist-packages (from jsonschema>=3.0->altair<6,>=4.0->streamlit) (0.26.0)\n",
            "Requirement already satisfied: six>=1.5 in /usr/local/lib/python3.11/dist-packages (from python-dateutil>=2.8.2->pandas<3,>=1.4.0->streamlit) (1.17.0)\n"
          ]
        }
      ]
    },
    {
      "cell_type": "code",
      "source": [
        "from pyngrok import ngrok\n",
        "\n",
        "# Replace YOUR_TOKEN_HERE with your real authtoken\n",
        "!ngrok config add-authtoken 2zVNUyRBy7HJLEJKnmYw9e6nhZm_6moVuJ9bHtos9fNcL3t4k\n"
      ],
      "metadata": {
        "colab": {
          "base_uri": "https://localhost:8080/"
        },
        "id": "GPxNDzyuH9IR",
        "outputId": "74c607ca-bc06-4078-e682-ba1ea1ebe589"
      },
      "execution_count": 9,
      "outputs": [
        {
          "output_type": "stream",
          "name": "stdout",
          "text": [
            "Authtoken saved to configuration file: /root/.config/ngrok/ngrok.yml\n"
          ]
        }
      ]
    },
    {
      "cell_type": "code",
      "execution_count": 10,
      "metadata": {
        "colab": {
          "base_uri": "https://localhost:8080/"
        },
        "id": "CIPxbw3aEIef",
        "outputId": "5dd29448-e6bf-4d09-ae3e-4a0582480637"
      },
      "outputs": [
        {
          "output_type": "stream",
          "name": "stdout",
          "text": [
            "Overwriting app.py\n"
          ]
        }
      ],
      "source": [
        "%%writefile app.py\n",
        "import streamlit as st\n",
        "import pandas as pd\n",
        "import joblib\n",
        "\n",
        "# Load model\n",
        "model = joblib.load(\"model.pkl\")\n",
        "\n",
        "# Expected order from model\n",
        "expected_columns = [\n",
        "    'Age', 'Sex', 'Job', 'Housing',\n",
        "    'Saving accounts', 'Checking account',\n",
        "    'Credit amount', 'Duration', 'Purpose'\n",
        "]\n",
        "\n",
        "# Streamlit UI\n",
        "st.set_page_config(page_title=\"Credit Risk Classifier\", layout=\"centered\")\n",
        "st.title(\"💳 Credit Risk Prediction\")\n",
        "\n",
        "# UI Inputs\n",
        "age = st.slider(\"Age\", 18, 75, 30)\n",
        "sex = st.selectbox(\"Sex\", ['male', 'female'])\n",
        "job = st.selectbox(\"Job Type\", [0, 1, 2, 3])\n",
        "housing = st.selectbox(\"Housing\", ['own', 'rent', 'free'])\n",
        "saving = st.selectbox(\"Saving accounts\", ['little', 'moderate', 'quite rich', 'rich', 'unknown'])\n",
        "checking = st.selectbox(\"Checking account\", ['<0', '0<=X<200', '>=200', 'unknown'])\n",
        "credit = st.number_input(\"Credit amount\", min_value=0, value=1000)\n",
        "duration = st.slider(\"Duration (months)\", 4, 72, 12)\n",
        "purpose = st.selectbox(\"Purpose\", [\n",
        "    'car', 'furniture/equipment', 'radio/TV', 'domestic appliances',\n",
        "    'repairs', 'education', 'business', 'vacation/others'\n",
        "])\n",
        "\n",
        "if st.button(\"🔍 Predict Credit Risk\"):\n",
        "    input_dict = {\n",
        "        'Age': age,\n",
        "        'Sex': sex,\n",
        "        'Job': job,\n",
        "        'Housing': housing,\n",
        "        'Saving accounts': saving,\n",
        "        'Checking account': checking,\n",
        "        'Credit amount': credit,\n",
        "        'Duration': duration,\n",
        "        'Purpose': purpose\n",
        "    }\n",
        "\n",
        "    input_df = pd.DataFrame([input_dict])\n",
        "\n",
        "    encoding_maps = {\n",
        "        'Sex': {'male': 1, 'female': 0},\n",
        "        'Housing': {'own': 2, 'rent': 1, 'free': 0},\n",
        "        'Saving accounts': {'little': 2, 'moderate': 3, 'quite rich': 4, 'rich': 1, 'unknown': 0},\n",
        "        'Checking account': {'<0': 1, '0<=X<200': 2, '>=200': 3, 'unknown': 0},\n",
        "        'Purpose': {\n",
        "            'car': 0, 'furniture/equipment': 1, 'radio/TV': 6, 'domestic appliances': 2,\n",
        "            'repairs': 5, 'education': 3, 'business': 4, 'vacation/others': 7\n",
        "        }\n",
        "    }\n",
        "\n",
        "    for col, mapping in encoding_maps.items():\n",
        "        input_df[col] = input_df[col].map(mapping)\n",
        "\n",
        "    input_df = input_df[expected_columns]\n",
        "    input_df.columns = model.feature_names_in_\n",
        "    input_df = input_df[model.feature_names_in_]  # enforce correct order\n",
        "\n",
        "    prediction = model.predict(input_df)[0]\n",
        "    proba = model.predict_proba(input_df)[0][prediction]\n",
        "\n",
        "    result = \"✅ Good Credit Risk\" if prediction == 0 else \"❌ Bad Credit Risk\"\n",
        "    st.subheader(\"Result\")\n",
        "    st.success(f\"{result}\\nConfidence: {round(proba * 100, 2)}%\")\n"
      ]
    },
    {
      "cell_type": "code",
      "source": [
        "!streamlit run app.py &>/dev/null &\n",
        "\n",
        "# Open tunnel\n",
        "public_url = ngrok.connect(8501)\n",
        "print(\"🌐 Your Streamlit app is live at:\", public_url)"
      ],
      "metadata": {
        "colab": {
          "base_uri": "https://localhost:8080/"
        },
        "id": "v2tCkdHaID9R",
        "outputId": "3b53edf1-1db7-4816-c28b-c34329c99436"
      },
      "execution_count": 11,
      "outputs": [
        {
          "output_type": "stream",
          "name": "stdout",
          "text": [
            "🌐 Your Streamlit app is live at: NgrokTunnel: \"https://1fcb-35-192-196-58.ngrok-free.app\" -> \"http://localhost:8501\"\n"
          ]
        }
      ]
    },
    {
      "cell_type": "code",
      "source": [
        "#0 means good risk can give the credit\n",
        "#1 means bad risk and cannot give\n",
        "#There’s a 67.36% probability that the applicant truly belongs to the \"good credit\" class (as per the model's learned patterns)."
      ],
      "metadata": {
        "id": "mXU1oYzcIMHI"
      },
      "execution_count": null,
      "outputs": []
    }
  ]
}